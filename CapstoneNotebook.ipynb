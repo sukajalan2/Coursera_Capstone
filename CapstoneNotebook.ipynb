{
    "cells": [
        {
            "cell_type": "markdown",
            "metadata": {
                "collapsed": true
            },
            "source": "# PROJECT DESCRIPTION\n\nThis notebook will be mainly used for the capstone project for IBM Applied Data Science Capstone course on Coursera.\n"
        },
        {
            "cell_type": "code",
            "execution_count": 5,
            "metadata": {},
            "outputs": [],
            "source": "import pandas as pd\nimport numpy as np"
        },
        {
            "cell_type": "code",
            "execution_count": 8,
            "metadata": {},
            "outputs": [
                {
                    "name": "stdout",
                    "output_type": "stream",
                    "text": "Hello Capstone Project Course!\n"
                }
            ],
            "source": "print('Hello Capstone Project Course!')"
        },
        {
            "cell_type": "markdown",
            "metadata": {},
            "source": "### INTRODUCTION\n\n#### Problem Statement:\nTraffic Accidents are a major crisis economically and socially.\n\n#### Target Audience: \nGeneral population, public safety officials.\n\n#### Background:\nAccording to the Centers for Disease Contriol and Prevention (CDC), traffic accidents are a leading cause of death in the US with over 100 people dying every day. The National Highway Traffic Safety of the US Department of Transportation calculated that the total economic cost was \\\\$242 billion in 2010 alone. When quality-of-life valuations such as pain and decreased quality of life are considered, the total value of societal harm jumped to \\\\$836 billion - in addition to the immeasurable burden on the victims\u2019 families and friends.\n\nThe advent of advanced electronic, computer, and communication technologies provides an opportunity for seeking new remedies that can help drivers avoid traffic accidents - thereby preventing accident-related injuries and saving both lives and money. Historical data sources, such as police, hospital, and emergency medical service (EMS) records, are publicly available and can be used to get a better picture of each accident.\n\nThe goal of this project is to understand the risk factors and to predict the severity of traffic accidents using Machine Learning with Python.\n\n\n### DATA PREPARATION\nWe are going to use the [collision dataset](https://data.seattle.gov/Land-Base/Collisions/9kas-rb8d) published by the City of Seatle. It is a public data and has more than 200k data points from 2004 to present with more than 30 attributes. \n\nWe need prepare the data by addressing data quality issues first. These data quality issues, including missing values and outliers, can can negatively affect the quality of the data and compromise the analysis process and results. Next we will select some attributes such as weather/road/light conditions and whether speeding is involved, assess the condition of those attributes by looking for trends, certain patterns, skewed information, correlations, etc. and narrow our selection to the attributes that will be relevant to making prediction. Then we need to get the data into the format needed for the analysis. Some implementations of machine learning algorithms like sci-kit require all data to be numerical. Therefore, we will convert the categorical data into a numerical form. For example, we will assign road conditions category \"Dry\" as 1, \"Ice\" as 2, \"Oil\" as 3, etc. The last step in our data preparation stage is to check if our dataset is unbalanced and fix it accordingly. Once the final dataset is ready, we can start creating the data model."
        },
        {
            "cell_type": "code",
            "execution_count": null,
            "metadata": {},
            "outputs": [],
            "source": ""
        }
    ],
    "metadata": {
        "kernelspec": {
            "display_name": "Python 3.6",
            "language": "python",
            "name": "python3"
        },
        "language_info": {
            "codemirror_mode": {
                "name": "ipython",
                "version": 3
            },
            "file_extension": ".py",
            "mimetype": "text/x-python",
            "name": "python",
            "nbconvert_exporter": "python",
            "pygments_lexer": "ipython3",
            "version": "3.6.9"
        }
    },
    "nbformat": 4,
    "nbformat_minor": 1
}